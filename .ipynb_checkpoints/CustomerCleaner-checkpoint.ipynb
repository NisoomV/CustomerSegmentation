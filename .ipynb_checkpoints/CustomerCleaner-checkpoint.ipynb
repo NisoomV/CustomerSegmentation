{
 "cells": [
  {
   "cell_type": "code",
   "execution_count": 9,
   "id": "8b7ad5ce-df74-4ddf-b8f8-7cefd4e12f36",
   "metadata": {},
   "outputs": [],
   "source": [
    "import pandas as pd\n",
    "import numpy as np\n",
    "\n",
    "customer_data = pd.read_csv('/home/vashinav/Documents/Data/Customer_Segmentation/Customer_Segmentation_Dataset.csv')"
   ]
  },
  {
   "cell_type": "markdown",
   "id": "ca227025-7d1f-4af1-b0bb-8b5cdc34e8aa",
   "metadata": {},
   "source": [
    "## Adds Recency Field"
   ]
  },
  {
   "cell_type": "code",
   "execution_count": 18,
   "id": "f1cab8e6-f409-4e32-99ea-f5d387ea868a",
   "metadata": {},
   "outputs": [],
   "source": [
    "customer_data['LastPurchaseDate'] = pd.to_datetime(customer_data['LastPurchaseDate'])\n",
    "currentdate = pd.to_datetime(\"today\")\n",
    "customer_data['Recency'] = (currentdate - customer_data['LastPurchaseDate']).dt.days\n",
    "customer_data.to_csv(\"Customer_Proccessed.csv\", index=False)"
   ]
  }
 ],
 "metadata": {
  "kernelspec": {
   "display_name": "Python 3 (ipykernel)",
   "language": "python",
   "name": "python3"
  },
  "language_info": {
   "codemirror_mode": {
    "name": "ipython",
    "version": 3
   },
   "file_extension": ".py",
   "mimetype": "text/x-python",
   "name": "python",
   "nbconvert_exporter": "python",
   "pygments_lexer": "ipython3",
   "version": "3.12.4"
  }
 },
 "nbformat": 4,
 "nbformat_minor": 5
}
